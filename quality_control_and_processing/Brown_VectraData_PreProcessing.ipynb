{
 "cells": [
  {
   "cell_type": "markdown",
   "metadata": {},
   "source": [
    "In this file, I want to bring all my data processing together that has to happen on this code \n",
    "This includes:\n",
    "    \t\t○ Reducing columns to only what is necessary (ie take out all membrane, cytoplasm stuff, and intensity stuff) \n",
    "\t\t○ Take out all glass/stroma (if applicable) \n",
    "\t\t○ Scale all the x and y values to convert from pixels --> microns \n",
    "\t\t○ Specifically divide into IFNy+ and IFNy-, not just regular and IFNy+ for your T cells and NK cells \n",
    "\t\t○ Do the \"cell typing\" and make sure that that is all good \n",
    "\t\t○ Take out image names, patient ID's, stage of tumor, stuff specific to each study that can be found in that file name and other stuff using regex strings and stuff like that \n",
    "Down the line regroup by tiny region areas and do parallel processing of stuff "
   ]
  },
  {
   "cell_type": "code",
   "execution_count": 1,
   "metadata": {},
   "outputs": [
    {
     "ename": "SyntaxError",
     "evalue": "invalid syntax (3960156819.py, line 7)",
     "output_type": "error",
     "traceback": [
      "\u001b[0;36m  Cell \u001b[0;32mIn[1], line 7\u001b[0;36m\u001b[0m\n\u001b[0;31m    location = #where file will come from\u001b[0m\n\u001b[0m               ^\u001b[0m\n\u001b[0;31mSyntaxError\u001b[0m\u001b[0;31m:\u001b[0m invalid syntax\n"
     ]
    }
   ],
   "source": [
    "import pandas as pd\n",
    "import numpy as np\n",
    "import re\n",
    "import seaborn as sns\n",
    "# to update\n",
    "# Specify the file location\n",
    "location = #where file will come from \n",
    "\n",
    "# List of columns to be used from the CSV\n",
    "reduced_titles = ['Image Location', 'XMin', 'XMax', 'YMin', 'YMax', 'MHCI (Opal 650) Positive', 'CD56 (Opal 570) Positive',\n",
    "                 'CD8 (Opal 540) Positive', 'CD3 (Opal 520) Positive', 'CD56+CD3+', 'CD56+CD3-', 'CD8+IFNy+', 'CD3+IFNy+',\n",
    "                 'CD56+IFNy+', 'CD8-CD3+', 'CD8+CD3+', 'CD8+CD3-', 'panCK+MHCI+', 'panCK+MHCI-', 'Cell Area (µm²)',\n",
    "                 'IFNy (Opal 620) Positive', 'Classifier Label', 'PanCyto (Opal 690) Positive']\n",
    "\n",
    "# Read the original data from the CSV\n",
    "original_data = pd.read_csv(location, usecols=reduced_titles)\n",
    "\n",
    "# Renaming columns\n",
    "original_data = original_data.rename(columns={'Classifier Label': 'ClassifierLabel', 'Image Location': 'ImageLocation',\n",
    "                                              \"Cell Area (µm²)\": 'CellArea'})\n",
    "\n",
    "# Remove rows with 'glass' in ClassifierLabel\n",
    "original_data = original_data[original_data.ClassifierLabel != 'glass']\n",
    "\n",
    "# Extract 'PatientID' from 'ImageLocation' using regex\n",
    "original_data[\"PatientID\"] = original_data[\"ImageLocation\"].str.extract(r'([^MAD]*[0-9][0-9]-[0-9][0-9][0-9])')\n",
    "\n",
    "# Scale coordinates from pixels to microns\n",
    "scale_factor = 0.49456 # this was a direct result of scaling done in Vectra Analysis \n",
    "original_data[\"XMin\"] = original_data[\"XMin\"] * scale_factor\n",
    "original_data[\"XMax\"] = original_data[\"XMax\"] * scale_factor\n",
    "original_data[\"YMin\"] = original_data[\"YMin\"] * scale_factor\n",
    "original_data[\"YMax\"] = original_data[\"YMax\"] * scale_factor\n",
    "original_data['XCenter'] = (original_data[\"XMin\"] + original_data[\"XMax\"]) / 2\n",
    "original_data['YCenter'] = (original_data[\"YMin\"] + original_data[\"YMax\"]) / 2\n",
    "\n",
    "# Define Cell Types of Interest by Multi Marker Assessment\n",
    "original_data['CD56+CD3-'] = original_data['CD56'] - original_data['CD3']\n",
    "original_data['CD56+CD3-'] = original_data['CD56+CD3-'].replace(-1, 0)\n",
    "original_data['PanCyto+MHCI+'] = original_data['PanCyto'] / 2 + original_data['MHCI'] / 2\n",
    "original_data['PanCyto+MHCI+'] = original_data['PanCyto+MHCI+'].replace(0.5, 0)\n",
    "original_data['PanCyto+MHCI-'] = original_data['PanCyto'] - original_data['MHCI']\n",
    "original_data['PanCyto+MHCI-'] = original_data['PanCyto+MHCI-'].replace(-1, 0)\n",
    "\n",
    "# Create derived columns for specific cell types\n",
    "cell_types = ['CD8-CD3+', 'CD8+CD3+', 'CD56+CD3-']\n",
    "for cell_type in cell_types:\n",
    "    activated_label = cell_type + 'IFNy+'\n",
    "    inactivated_label = cell_type + 'IFNy-'\n",
    "    original_data[activated_label] = original_data[cell_type] / 2 + original_data['IFNy'] / 2\n",
    "    original_data[activated_label] = original_data[activated_label].replace(0.5, 0)\n",
    "    original_data[inactivated_label] = original_data[cell_type] - original_data['IFNy']\n",
    "    original_data[inactivated_label] = original_data[inactivated_label].replace(-1, 0)\n",
    "\n",
    "# Handling missing data\n",
    "cell_name_list = ['PanCyto+MHCI-', 'PanCyto+MHCI+', 'CD8-CD3+IFNy+', 'CD8-CD3+IFNy-', 'CD8+CD3+IFNy+', 'CD8+CD3+IFNy-',\n",
    "                  'CD56+CD3-IFNy+', 'CD56+CD3-IFNy-', 'CD8', 'CD3']\n",
    "for cell_name in cell_name_list:\n",
    "    original_data.dropna(subset=[cell_name], inplace=True)\n",
    "\n",
    "# Remove rows with specific 'PatientID' values\n",
    "excluded_patient_ids = [\"15-671\", \"17-234\", \"17-328\", \"17-408\", \"17-473\", \"17-504\"] # these patient ID's were found in other investigation to have very low values  \n",
    "original_data = original_data[~original_data['PatientID'].isin(excluded_patient_ids)]\n",
    "\n",
    "# Select a subset of columns\n",
    "subset_columns = ['ImageLocation', 'PatientID', 'XCenter', 'YCenter', 'ClassifierLabel', 'CellArea',\n",
    "                  'CD8-CD3+IFNy+', 'CD8-CD3+IFNy-', 'CD8+CD3+IFNy+', 'CD8+CD3+IFNy-', 'CD56+CD3-IFNy+',\n",
    "                  'CD56+CD3-IFNy-', 'PanCyto+MHCI+', 'PanCyto+MHCI-']\n",
    "original_data = original_data.drop_duplicates(subset=subset_columns)\n",
    "\n",
    "# Create a new column 'CellType' and group data\n",
    "reduced_data = original_data\n",
    "reduced_data[\"CellType\"] = 0\n",
    "\n",
    "def group_assignment_function(row):\n",
    "    cell_types = ['PanCyto+MHCI-', 'PanCyto+MHCI+', 'CD8-CD3+IFNy+', 'CD8-CD3+IFNy-', 'CD8+CD3+IFNy+', 'CD8+CD3+IFNy-',\n",
    "                  'CD56+CD3-IFNy+', 'CD56+CD3-IFNy-']\n",
    "    for cell_type in cell_types:\n",
    "        if row[cell_type] == 1:\n",
    "            row.CellType = cell_type\n",
    "    return row\n",
    "\n",
    "grouped_df = reduced_data.apply(lambda x: group_assignment_function(x), axis=1)\n",
    "grouped_df = grouped_df[grouped_df[\"CellType\"] != 0]\n",
    "\n",
    "# Export the grouped data to a CSV file\n",
    "with open(# where you will save file to #, 'a') as f:\n",
    "    grouped_df.to_csv(f)\n",
    "\n",
    "    "
   ]
  },
  {
   "cell_type": "code",
   "execution_count": null,
   "metadata": {},
   "outputs": [],
   "source": [
    "# Read the edited data from the CSV\n",
    "edited_data = pd.read_csv(# where you will save the file to; just checking to make sure everything is there; keep this in a separate kernel\n",
    "\n",
    "print(len(edited_data))"
   ]
  },
  {
   "cell_type": "code",
   "execution_count": null,
   "metadata": {},
   "outputs": [],
   "source": []
  }
 ],
 "metadata": {
  "kernelspec": {
   "display_name": "Python 3 (ipykernel)",
   "language": "python",
   "name": "python3"
  },
  "language_info": {
   "codemirror_mode": {
    "name": "ipython",
    "version": 3
   },
   "file_extension": ".py",
   "mimetype": "text/x-python",
   "name": "python",
   "nbconvert_exporter": "python",
   "pygments_lexer": "ipython3",
   "version": "3.11.4"
  }
 },
 "nbformat": 4,
 "nbformat_minor": 4
}
